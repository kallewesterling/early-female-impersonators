{
 "cells": [
  {
   "cell_type": "code",
   "execution_count": 1,
   "metadata": {},
   "outputs": [],
   "source": [
    "import requests, csv, io\n",
    "from datetime import datetime as dt\n",
    "from pprint import pprint\n",
    "import pandas as pd"
   ]
  },
  {
   "cell_type": "code",
   "execution_count": 2,
   "metadata": {},
   "outputs": [],
   "source": [
    "'''\n",
    "# Load data externally\n",
    "sheet_url = 'https://docs.google.com/spreadsheets/d/e/2PACX-1vRrTyONku0NgOZ2f_aFeJ8bKJ4K4wc4brHxMm9Q1_Si72bhdgefUinLCiUmoZFQg4V7F95Y4rbU0bcf/pub?gid=0&single=true&output=tsv'\n",
    "response = requests.get(sheet_url)\n",
    "response.encoding = response.apparent_encoding # Fix encoding (see https://stackoverflow.com/questions/44203397/python-requests-get-returns-improperly-decoded-text-instead-of-utf-8)\n",
    "response.raise_for_status()\n",
    "text = response.text\n",
    "'''\n",
    "pass"
   ]
  },
  {
   "cell_type": "code",
   "execution_count": null,
   "metadata": {},
   "outputs": [],
   "source": []
  },
  {
   "cell_type": "code",
   "execution_count": 3,
   "metadata": {},
   "outputs": [],
   "source": [
    "from ProQuestMetadata import Source\n",
    "\n",
    "class DataPoint():\n",
    "    \n",
    "    def __init__(self, csv, headers):\n",
    "        fields = csv.split(\"\\t\")\n",
    "        _ = {}\n",
    "        for i, field in enumerate(fields):\n",
    "            _[headers[i]] = field\n",
    "        self.data = _\n",
    "        self.source = Source(self.data['sources'])\n",
    "        self.headers = headers\n",
    "        \n",
    "        self.firstname = self.__getitem__('firstname')\n",
    "        self.lastname = self.__getitem__('firstname')\n",
    "    \n",
    "    def __getitem__(self, item):\n",
    "        return(self.data.get(item, None))\n"
   ]
  },
  {
   "cell_type": "code",
   "execution_count": null,
   "metadata": {},
   "outputs": [],
   "source": []
  },
  {
   "cell_type": "code",
   "execution_count": 4,
   "metadata": {},
   "outputs": [],
   "source": [
    "# Very early impersonator data file contains mostly minstrel show data\n",
    "\n",
    "with open('./data/very early impersonators - proquest data.tsv') as f:\n",
    "    text = f.read()"
   ]
  },
  {
   "cell_type": "code",
   "execution_count": 5,
   "metadata": {},
   "outputs": [],
   "source": [
    "headers = text.split(\"\\n\")[0]\n",
    "headers = headers.split(\"\\t\")\n",
    "rows = text.split(\"\\n\")[1:]"
   ]
  },
  {
   "cell_type": "code",
   "execution_count": null,
   "metadata": {},
   "outputs": [],
   "source": [
    "_rows = []\n",
    "for row in rows:\n",
    "    point = DataPoint(row, headers)\n",
    "    try:\n",
    "        source = Source(point.data['sources'])\n",
    "    except KeyError:\n",
    "        print(row)\n",
    "        source = None\n",
    "    print(row)\n",
    "    if source:\n",
    "        print(source.year, point.firstname, point.lastname)\n",
    "        print(point.source.data)"
   ]
  },
  {
   "cell_type": "code",
   "execution_count": null,
   "metadata": {},
   "outputs": [],
   "source": []
  },
  {
   "cell_type": "code",
   "execution_count": 1,
   "metadata": {},
   "outputs": [],
   "source": []
  },
  {
   "cell_type": "code",
   "execution_count": null,
   "metadata": {},
   "outputs": [],
   "source": []
  },
  {
   "cell_type": "code",
   "execution_count": null,
   "metadata": {},
   "outputs": [],
   "source": []
  },
  {
   "cell_type": "code",
   "execution_count": 15,
   "metadata": {},
   "outputs": [],
   "source": [
    "'''\n",
    "Moving forward with this project, here's what I will have to do:\n",
    "\n",
    "1. Separate out the information from the datasheet and into some format that works better with Python - I think a dictionary sounds easy enough. And perhaps, if I make it a pickle, it's not as easily accessible online for those who just want to snoop.\n",
    "\n",
    "'''\n",
    "\n",
    "from bs4 import BeautifulSoup, NavigableString, Tag\n",
    "import re\n",
    "import pandas as pd\n",
    "from ProQuestMetadata import Source"
   ]
  },
  {
   "cell_type": "code",
   "execution_count": 16,
   "metadata": {},
   "outputs": [],
   "source": [
    "with open('./data/very early impersonators - proquest data.html') as f:\n",
    "    soup = BeautifulSoup(f.read())"
   ]
  },
  {
   "cell_type": "code",
   "execution_count": 17,
   "metadata": {},
   "outputs": [],
   "source": [
    "headers = ['id', 'year', 'firstname', 'lastname', 'alt_name', 'company', 'play_performance', 'keyword', 'comment', 'sources']"
   ]
  },
  {
   "cell_type": "code",
   "execution_count": 29,
   "metadata": {},
   "outputs": [],
   "source": [
    "all_rows = []\n",
    "rows = soup.find_all(\"tr\")[2:]\n",
    "for i_row, row in enumerate(rows):\n",
    "    columns = row.find_all(\"td\")\n",
    "    row_data = {}\n",
    "    for i_col, column in enumerate(columns):\n",
    "        if not len(column.contents): continue\n",
    "        if \"id\" in headers[i_col]: continue\n",
    "        if isinstance(column.contents[0], NavigableString):\n",
    "            contents = column.contents[0] # this is a string\n",
    "        elif isinstance(column.contents[0], Tag):\n",
    "            contents = \"\".join([str(x) for x in column.contents[0]])\n",
    "        contents = contents.replace(\"<br/>\", \"\\n\")\n",
    "        row_data[headers[i_col]] = contents\n",
    "    if len(row_data): all_rows.append(row_data)"
   ]
  },
  {
   "cell_type": "code",
   "execution_count": 30,
   "metadata": {},
   "outputs": [],
   "source": [
    "df = pd.DataFrame.from_dict(all_rows)"
   ]
  },
  {
   "cell_type": "code",
   "execution_count": 31,
   "metadata": {},
   "outputs": [],
   "source": [
    "df.to_csv('./data/very-early.csv')"
   ]
  },
  {
   "cell_type": "code",
   "execution_count": 32,
   "metadata": {},
   "outputs": [
    {
     "name": "stdout",
     "output_type": "stream",
     "text": [
      "1854 1854 1854 1854 1854 1866 1866 1866 1866 1866 1866 1868 1869 1869 1869 1869 1869 1869 1869 1869 1869 1869 1869 1869 1870 1871 1871 1871 1871 1871 1871 1871 1871 1872 1872 1873 1874 1874 1874 1874 1875 1875 1875 1875 1875 1875 1877 1877 1877 1877 1877 1877 1877 1877 1877 1877 1877 None 1878 1878 1878 1878 1878 1878 1878 1878 1878 1878 1878 1878 1878 1878 1878 1878 1878 1878 1878 1878 1879 1879 1879 1879 1879 1879 1879 1879 1879 1879 1879 1879 1879 1879 1879 None 1880 1880 1880 1880 1880 1880 1880 1880 1880 1880 1880 1880 1881 1881 1881 1881 1881 1881 1881 1881 1881 1881 1881 1881 1881 1881 1881 1881 1881 1881 1881 1881 1881 1881 1881 1881 1881 1881 1881 1881 1881 1881 1881 1882 1882 1882 1882 1882 1882 1882 1882 1882 1882 1882 1882 1882 1882 1882 1882 1882 1882 1882 1882 1882 1882 1882 1882 1882 1882 1882 1882 1882 1882 1883 1883 1883 1883 1883 1883 1883 1883 1883 1883 1883 1883 1883 1883 1883 1883 1883 1883 1883 1883 1883 1883 1883 1884 1884 1884 1884 1884 1884 1884 1884 1884 1884 1884 1884 1884 1884 1884 1885 1885 1885 1885 1885 1885 1885 1885 1885 1885 1885 1886 1886 1886 1886 1886 1886 1886 1886 1886 1886 1886 1886 1886 1886 1886 1886 1886 1886 1886 1886 1886 1886 1886 1886 1886 1886 1886 1887 1887 1887 1887 1887 1887 1887 1887 1887 1887 1887 1887 1888 1888 1888 1888 1888 1888 1888 1888 1888 1888 1888 1888 1888 1889 1889 1889 1889 1889 1889 1889 1889 1889 1889 1889 1889 1889 1889 1889 1889 1889 1889 1889 1889 1889 1889 1889 1889 1889 1889 1889 1889 1889 1889 1890 1890 1890 1890 1890 1890 1890 1890 1890 1890 1890 1890 1890 1890 1890 1890 1890 1890 1890 1890 1890 1890 1890 1890 1890 1890 1890 1890 1890 1890 1890 1890 1890 1890 1890 1890 1890 1890 1890 1890 1890 1890 1890 1890 1890 1890 1890 1890 1890 1890 1890 1890 1890 1890 1890 1890 1890 1890 1890 1890 1890 1890 1891 1891 1891 1891 1891 1891 1891 1891 1891 1891 1891 1891 1891 1891 1891 1891 1891 1891 1891 1891 1891 1891 1891 1891 1891 1891 1891 1891 1891 1891 1891 1891 1891 1891 1891 1891 1891 1891 1891 1891 1891 1892 1892 1892 1892 1892 1892 1892 1892 1892 1892 1892 1892 1892 1892 1892 1892 1892 1892 1892 1892 1892 1892 1892 1892 1892 1892 1892 1892 1892 1892 1892 1892 1892 1892 1892 1892 1892 1892 1892 1892 1892 1892 1892 1892 1892 1892 1893 1893 1893 1893 1893 1893 1893 1893 1893 1893 1893 1893 1893 1893 1893 1893 1893 1893 1893 1893 1893 1893 1893 1893 1893 1893 1893 1893 1893 1893 1893 1893 1893 1893 1893 1893 1893 1893 1893 1893 1893 1893 1893 1893 1893 1893 1893 1893 1893 1893 1893 1893 1893 1893 1893 1893 1894 1894 1894 1894 1894 1894 1894 1894 1894 1894 1894 1894 1894 1894 1894 1894 1894 1894 1894 1894 1894 1894 1894 1894 1894 1894 1894 1894 1894 1894 1894 1894 1894 1894 1894 1894 1894 1894 1894 1894 1894 1894 1894 1894 1894 1894 1894 1894 1894 1894 1894 1894 1894 1894 1894 1894 1894 1894 1894 1894 1894 1894 1894 1894 1894 1894 1894 1894 1894 1894 1894 1894 1894 1894 1894 1894 1894 1894 1894 1894 1894 1894 1894 1894 1894 1894 1894 1894 1895 1895 1895 1895 1895 1895 1895 1895 1895 1895 1895 1895 1895 1895 1895 1895 1895 1895 1895 1895 1895 1895 1895 1895 1895 1895 1895 1895 1895 1895 1895 1895 1895 1895 1895 1895 1895 1895 1895 1895 1895 1895 1895 1895 1895 1895 1895 1895 1895 1895 1895 1895 1895 1895 1895 1895 1895 1895 1895 1895 1895 1895 1895 1895 1895 1895 1895 1895 1895 1895 1895 1895 1895 1895 1895 1895 1895 1895 1895 1895 1895 1895 1895 1895 1895 1895 1895 1895 1895 1895 1895 1895 1895 1895 1895 1895 1895 1895 1896 1896 1896 1896 1896 1896 1896 1896 1896 1896 1896 1896 1896 1896 1896 1896 1896 1896 1896 1896 1896 1896 1896 1896 1896 1896 1896 1896 1896 1896 None 1896 1896 1896 1896 1896 1896 1896 1896 1897 1897 1897 1897 1897 1897 1897 1897 1897 1897 1897 1897 1897 1897 1897 1897 1897 1897 1897 1897 1897 1897 1897 1897 1897 1897 1897 1897 1897 1897 1897 1897 1897 1897 1897 1897 1897 1897 1897 1897 1897 1897 1897 1897 1897 1897 1897 1898 1898 1898 1898 1898 1898 1898 1898 1898 1898 1898 1898 1898 1898 1898 1898 1898 1898 1898 1898 1898 1898 1898 1898 1898 1898 1898 1898 1898 1898 1898 1898 1898 1898 1898 1898 1898 1898 1898 1898 1898 1898 1898 1898 1898 1898 1898 1898 1898 1898 1898 1898 1898 1898 1898 1898 1898 1898 1898 1898 1898 1898 1898 1898 1898 1898 1899 1899 1899 1899 1899 1899 1899 1899 1899 1899 1899 1899 1899 1899 1899 1899 1899 1899 1899 1899 1899 1899 1899 1899 1899 1899 1899 1899 1899 1899 1899 1899 1899 1899 1899 1899 1899 1899 1899 1899 1899 1899 1899 1899 1899 1899 1899 1899 1899 1899 1899 1899 1899 1899 1899 1899 1899 1899 1899 1899 1899 1899 1899 1899 1899 1899 1899 1899 1899 1899 1899 1899 1899 1899 1899 1899 1899 1899 1899 1899 1899 None 1899 1899 1900 1900 1900 1900 1900 1900 1900 1900 1900 1900 1900 1900 1900 1900 1900 1900 1900 1900 1900 1900 1900 1900 1900 1900 1900 1900 1900 1900 1900 1900 1900 1900 1900 1900 1900 1900 1900 1900 1900 1900 1900 1900 1900 1900 1900 1900 None 1901 1901 1901 1901 1901 1901 1901 1901 1901 1901 1901 1901 1901 1901 1901 1901 1901 1901 1901 1901 1901 1901 1901 1901 1901 1901 1901 1901 1901 1901 1901 1901 1901 1901 1901 1901 1901 1901 1901 1901 1901 1901 1901 1901 1901 1901 1901 1901 1901 1901 1901 1901 1901 1901 1901 1901 1901 1901 1901 1901 1901 1901 1901 1902 1902 1902 1902 1902 1902 1902 1902 1902 1902 1902 1902 1902 1902 1902 1902 1902 1902 1902 1902 1902 1902 1902 1902 1902 1902 1903 1903 1903 1903 1903 1903 1903 1903 1903 1903 1903 1903 1903 1903 1903 1903 1903 1903 1903 1903 1903 1903 1903 1903 1903 1903 1903 1903 1903 1903 1903 1903 1903 1903 1903 1903 1903 1903 1903 1904 None 1904 1904 1904 1904 1904 1904 1904 1904 1904 1904 1904 1904 1904 1904 1904 1904 1904 1904 1904 1904 1904 1904 1904 1904 1904 1904 1904 1904 1904 1904 1904 1904 1904 1904 1904 1904 1904 1904 1904 1904 1904 1904 1904 1904 1904 1904 1904 1904 1904 1904 1904 1904 1904 1904 1904 1904 1904 1904 None 1904 1904 1904 1904 1904 1904 1904 1904 1904 1904 1904 1904 1905 1905 1905 1905 1905 1905 1905 1905 1905 1905 1905 1905 1905 1905 1905 None None None 1906 1910 1910 1912 1915 1921 "
     ]
    }
   ],
   "source": [
    "for row in all_rows:\n",
    "    if 'sources' not in row: continue\n",
    "    for source in row['sources'].split(\"\\n\"):\n",
    "        s = Source(row['sources'])\n",
    "        print(s.year, end=\" \")"
   ]
  },
  {
   "cell_type": "code",
   "execution_count": null,
   "metadata": {},
   "outputs": [],
   "source": []
  }
 ],
 "metadata": {
  "kernelspec": {
   "display_name": "Python 3",
   "language": "python",
   "name": "python3"
  },
  "language_info": {
   "codemirror_mode": {
    "name": "ipython",
    "version": 3
   },
   "file_extension": ".py",
   "mimetype": "text/x-python",
   "name": "python",
   "nbconvert_exporter": "python",
   "pygments_lexer": "ipython3",
   "version": "3.7.1"
  }
 },
 "nbformat": 4,
 "nbformat_minor": 2
}
