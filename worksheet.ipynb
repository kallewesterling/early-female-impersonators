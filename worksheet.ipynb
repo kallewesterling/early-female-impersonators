{
 "cells": [
  {
   "cell_type": "code",
   "execution_count": 2,
   "metadata": {},
   "outputs": [],
   "source": [
    "import requests, csv, io\n",
    "from datetime import datetime as dt\n",
    "from pprint import pprint"
   ]
  },
  {
   "cell_type": "code",
   "execution_count": 3,
   "metadata": {},
   "outputs": [],
   "source": [
    "'''\n",
    "# Load data externally\n",
    "sheet_url = 'https://docs.google.com/spreadsheets/d/e/2PACX-1vRrTyONku0NgOZ2f_aFeJ8bKJ4K4wc4brHxMm9Q1_Si72bhdgefUinLCiUmoZFQg4V7F95Y4rbU0bcf/pub?gid=0&single=true&output=tsv'\n",
    "response = requests.get(sheet_url)\n",
    "response.encoding = response.apparent_encoding # Fix encoding (see https://stackoverflow.com/questions/44203397/python-requests-get-returns-improperly-decoded-text-instead-of-utf-8)\n",
    "response.raise_for_status()\n",
    "text = response.text\n",
    "'''\n",
    "pass"
   ]
  },
  {
   "cell_type": "code",
   "execution_count": null,
   "metadata": {},
   "outputs": [],
   "source": []
  },
  {
   "cell_type": "code",
   "execution_count": 4,
   "metadata": {},
   "outputs": [],
   "source": [
    "from ProQuestMetadata import DataPoint, Source"
   ]
  },
  {
   "cell_type": "code",
   "execution_count": 5,
   "metadata": {},
   "outputs": [],
   "source": [
    "# Very early impersonator data file contains mostly minstrel show data\n",
    "\n",
    "with open('./data/very early impersonators - proquest data.tsv') as f:\n",
    "    text = f.read()"
   ]
  },
  {
   "cell_type": "code",
   "execution_count": 6,
   "metadata": {},
   "outputs": [],
   "source": [
    "headers = text.split(\"\\n\")[0]\n",
    "headers = headers.split(\"\\t\")\n",
    "rows = text.split(\"\\n\")[1:]"
   ]
  },
  {
   "cell_type": "code",
   "execution_count": 12,
   "metadata": {},
   "outputs": [
    {
     "name": "stdout",
     "output_type": "stream",
     "text": [
      "\t1900s\tBothwell\tBrowne\t\t\t\t\t/Walter Bothwell Bruhn/ Born in Copenhagen, Denmark, March 7, 1877, dead Dec 12, 1947. Started with Cohan's and Harris' Minstrels. Trained dancer. \"The average \n",
      "audience enjoyed or at least tolerated female impersonation when the character was either demure and inoffensive or grotesque and funny. Bothwell Browne’s sinuous dances were viewed by some as too seductive and unsettling.\" + \"His gowns attracted a lot of attention, and he hired actors and chorus dancers for his flash acts. At one point, he and male impersonator Kathleen Clifford did an act together in vaudeville.\" (Vaudeville Old & New: An Encyclopedia of Variety Performers in America, 150.)\tVaudeville Old & New: An Encyclopedia of Variety Performers in America, 150\n",
      "692\t\tJames\tRussell\t\t\tThe Female Detectives\t\tprobably the best female impresonator on the stage; part of the Russell Brothers who worked with old-time vaudeville sketches (see Gilbert, American Vaudeville, 61: \"the\n",
      " Russell Brothers, whose Irish servant girls were a famous rough act.\"\tThe Billboard (Archive: 1894-1960); Cincinnati Vol. 17, Iss. 14,  (Apr 8, 1905): 9. \n"
     ]
    }
   ],
   "source": [
    "_rows = []\n",
    "for row in rows:\n",
    "    point = DataPoint(row, headers)\n",
    "    try:\n",
    "        source = Source(point.data['sources'])\n",
    "    except KeyError:\n",
    "        print(row)"
   ]
  },
  {
   "cell_type": "code",
   "execution_count": null,
   "metadata": {},
   "outputs": [],
   "source": []
  },
  {
   "cell_type": "code",
   "execution_count": null,
   "metadata": {},
   "outputs": [],
   "source": []
  },
  {
   "cell_type": "code",
   "execution_count": null,
   "metadata": {},
   "outputs": [],
   "source": []
  },
  {
   "cell_type": "code",
   "execution_count": null,
   "metadata": {},
   "outputs": [],
   "source": []
  },
  {
   "cell_type": "code",
   "execution_count": null,
   "metadata": {},
   "outputs": [],
   "source": []
  },
  {
   "cell_type": "code",
   "execution_count": null,
   "metadata": {},
   "outputs": [],
   "source": []
  },
  {
   "cell_type": "code",
   "execution_count": null,
   "metadata": {},
   "outputs": [],
   "source": []
  },
  {
   "cell_type": "code",
   "execution_count": null,
   "metadata": {},
   "outputs": [],
   "source": []
  },
  {
   "cell_type": "code",
   "execution_count": null,
   "metadata": {},
   "outputs": [],
   "source": []
  },
  {
   "cell_type": "code",
   "execution_count": null,
   "metadata": {},
   "outputs": [],
   "source": []
  },
  {
   "cell_type": "code",
   "execution_count": null,
   "metadata": {},
   "outputs": [],
   "source": []
  },
  {
   "cell_type": "code",
   "execution_count": null,
   "metadata": {},
   "outputs": [],
   "source": []
  },
  {
   "cell_type": "code",
   "execution_count": null,
   "metadata": {},
   "outputs": [],
   "source": []
  },
  {
   "cell_type": "code",
   "execution_count": null,
   "metadata": {},
   "outputs": [],
   "source": []
  }
 ],
 "metadata": {
  "kernelspec": {
   "display_name": "Python 3",
   "language": "python",
   "name": "python3"
  },
  "language_info": {
   "codemirror_mode": {
    "name": "ipython",
    "version": 3
   },
   "file_extension": ".py",
   "mimetype": "text/x-python",
   "name": "python",
   "nbconvert_exporter": "python",
   "pygments_lexer": "ipython3",
   "version": "3.7.1"
  }
 },
 "nbformat": 4,
 "nbformat_minor": 2
}
