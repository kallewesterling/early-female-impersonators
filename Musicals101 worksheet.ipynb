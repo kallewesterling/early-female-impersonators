{
 "cells": [
  {
   "cell_type": "code",
   "execution_count": 2,
   "metadata": {},
   "outputs": [],
   "source": [
    "import requests\n",
    "from bs4 import BeautifulSoup\n",
    "import pandas as pd"
   ]
  },
  {
   "cell_type": "code",
   "execution_count": 3,
   "metadata": {},
   "outputs": [],
   "source": [
    "from Musicals101 import ParseTheatreInfo"
   ]
  },
  {
   "cell_type": "code",
   "execution_count": 8,
   "metadata": {},
   "outputs": [],
   "source": [
    "urls = [\n",
    "    'https://www.musicals101.com/bwaypast.htm',\n",
    "    'https://www.musicals101.com/bwaypast1b.htm',\n",
    "    'https://www.musicals101.com/bwaypast2.htm',\n",
    "    'https://www.musicals101.com/bwaypast3.htm',\n",
    "    'https://www.musicals101.com/bwaypast3b.htm',\n",
    "    'https://www.musicals101.com/bwaypast4.htm',\n",
    "    'https://www.musicals101.com/bwaypast5.htm',\n",
    "    'https://www.musicals101.com/bwaypast6.htm'\n",
    "]"
   ]
  },
  {
   "cell_type": "code",
   "execution_count": null,
   "metadata": {},
   "outputs": [],
   "source": [
    "_ = []\n",
    "for url in urls:\n",
    "    q = requests.get(url)\n",
    "    soup = BeautifulSoup(q.content)\n",
    "    h3 = soup.find_all('h3')\n",
    "    for h in h3:\n",
    "        info = h.find_next_sibling()\n",
    "        if info is None: continue\n",
    "        theatre = ParseTheatreInfo(info.text)\n",
    "        theatre.data['name'] = h.text\n",
    "        theatre.data['reference'] = theatre.reference\n",
    "        theatre.data['original_text'] = info.text\n",
    "        _.append(theatre.data)\n",
    "df = pd.DataFrame.from_dict(_)\n",
    "df.to_csv('musicals101.csv')"
   ]
  },
  {
   "cell_type": "code",
   "execution_count": null,
   "metadata": {},
   "outputs": [],
   "source": []
  },
  {
   "cell_type": "code",
   "execution_count": 1,
   "metadata": {},
   "outputs": [
    {
     "ename": "AttributeError",
     "evalue": "'ParseTheatreInfo' object has no attribute 'reference'",
     "output_type": "error",
     "traceback": [
      "\u001b[0;31m---------------------------------------------------------------------------\u001b[0m",
      "\u001b[0;31mAttributeError\u001b[0m                            Traceback (most recent call last)",
      "\u001b[0;32m<ipython-input-1-a4edba8c24a2>\u001b[0m in \u001b[0;36m<module>\u001b[0;34m\u001b[0m\n\u001b[1;32m     25\u001b[0m         \u001b[0mtheatre\u001b[0m \u001b[0;34m=\u001b[0m \u001b[0mParseTheatreInfo\u001b[0m\u001b[0;34m(\u001b[0m\u001b[0minfo\u001b[0m\u001b[0;34m.\u001b[0m\u001b[0mtext\u001b[0m\u001b[0;34m)\u001b[0m\u001b[0;34m\u001b[0m\u001b[0;34m\u001b[0m\u001b[0m\n\u001b[1;32m     26\u001b[0m         \u001b[0mtheatre\u001b[0m\u001b[0;34m.\u001b[0m\u001b[0mdata\u001b[0m\u001b[0;34m[\u001b[0m\u001b[0;34m'name'\u001b[0m\u001b[0;34m]\u001b[0m \u001b[0;34m=\u001b[0m \u001b[0mh\u001b[0m\u001b[0;34m.\u001b[0m\u001b[0mtext\u001b[0m\u001b[0;34m\u001b[0m\u001b[0;34m\u001b[0m\u001b[0m\n\u001b[0;32m---> 27\u001b[0;31m         \u001b[0mtheatre\u001b[0m\u001b[0;34m.\u001b[0m\u001b[0mdata\u001b[0m\u001b[0;34m[\u001b[0m\u001b[0;34m'reference'\u001b[0m\u001b[0;34m]\u001b[0m \u001b[0;34m=\u001b[0m \u001b[0mtheatre\u001b[0m\u001b[0;34m.\u001b[0m\u001b[0mreference\u001b[0m\u001b[0;34m\u001b[0m\u001b[0;34m\u001b[0m\u001b[0m\n\u001b[0m\u001b[1;32m     28\u001b[0m         \u001b[0mtheatre\u001b[0m\u001b[0;34m.\u001b[0m\u001b[0mdata\u001b[0m\u001b[0;34m[\u001b[0m\u001b[0;34m'original_text'\u001b[0m\u001b[0;34m]\u001b[0m \u001b[0;34m=\u001b[0m \u001b[0minfo\u001b[0m\u001b[0;34m.\u001b[0m\u001b[0mtext\u001b[0m\u001b[0;34m\u001b[0m\u001b[0;34m\u001b[0m\u001b[0m\n\u001b[1;32m     29\u001b[0m         \u001b[0m_\u001b[0m\u001b[0;34m.\u001b[0m\u001b[0mappend\u001b[0m\u001b[0;34m(\u001b[0m\u001b[0mtheatre\u001b[0m\u001b[0;34m.\u001b[0m\u001b[0mdata\u001b[0m\u001b[0;34m)\u001b[0m\u001b[0;34m\u001b[0m\u001b[0;34m\u001b[0m\u001b[0m\n",
      "\u001b[0;31mAttributeError\u001b[0m: 'ParseTheatreInfo' object has no attribute 'reference'"
     ]
    }
   ],
   "source": [
    "# testing with current theatres\n",
    "\n",
    "\n",
    "import requests\n",
    "from bs4 import BeautifulSoup\n",
    "import pandas as pd\n",
    "from Musicals101 import ParseTheatreInfo\n",
    "\n",
    "urls = [\n",
    "    'https://www.musicals101.com/bwaypresent.htm',\n",
    "    'https://www.musicals101.com/bwaypresent2.htm',\n",
    "    'https://www.musicals101.com/bwaypresent3.htm',\n",
    "    'https://www.musicals101.com/bwaypresent4.htm',\n",
    "    'https://www.musicals101.com/bwaypresent5.htm'\n",
    "]\n",
    "\n",
    "_ = []\n",
    "for url in urls:\n",
    "    q = requests.get(url)\n",
    "    soup = BeautifulSoup(q.content)\n",
    "    h3 = soup.find_all('h3')\n",
    "    for h in h3:\n",
    "        info = h.find_next_sibling()\n",
    "        if info is None: continue\n",
    "        theatre = ParseTheatreInfo(info.text)\n",
    "        theatre.data['name'] = h.text\n",
    "        theatre.data['reference'] = theatre.reference\n",
    "        theatre.data['original_text'] = info.text\n",
    "        _.append(theatre.data)"
   ]
  },
  {
   "cell_type": "code",
   "execution_count": null,
   "metadata": {},
   "outputs": [],
   "source": [
    "df = pd.DataFrame.from_dict(_)\n",
    "df.to_csv('data/musicals101-current.csv')\n",
    "df"
   ]
  },
  {
   "cell_type": "code",
   "execution_count": null,
   "metadata": {},
   "outputs": [],
   "source": []
  },
  {
   "cell_type": "code",
   "execution_count": null,
   "metadata": {},
   "outputs": [],
   "source": []
  }
 ],
 "metadata": {
  "kernelspec": {
   "display_name": "Python 3",
   "language": "python",
   "name": "python3"
  },
  "language_info": {
   "codemirror_mode": {
    "name": "ipython",
    "version": 3
   },
   "file_extension": ".py",
   "mimetype": "text/x-python",
   "name": "python",
   "nbconvert_exporter": "python",
   "pygments_lexer": "ipython3",
   "version": "3.7.1"
  }
 },
 "nbformat": 4,
 "nbformat_minor": 2
}
