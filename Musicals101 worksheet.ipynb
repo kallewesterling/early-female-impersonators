{
 "cells": [
  {
   "cell_type": "code",
   "execution_count": 6,
   "metadata": {},
   "outputs": [],
   "source": [
    "import requests\n",
    "from bs4 import BeautifulSoup\n",
    "import pandas as pd"
   ]
  },
  {
   "cell_type": "code",
   "execution_count": 7,
   "metadata": {},
   "outputs": [],
   "source": [
    "from Musicals101 import ParseTheatreInfo"
   ]
  },
  {
   "cell_type": "code",
   "execution_count": 8,
   "metadata": {},
   "outputs": [],
   "source": [
    "urls = [\n",
    "    'https://www.musicals101.com/bwaypast.htm',\n",
    "    'https://www.musicals101.com/bwaypast1b.htm',\n",
    "    'https://www.musicals101.com/bwaypast2.htm',\n",
    "    'https://www.musicals101.com/bwaypast3.htm',\n",
    "    'https://www.musicals101.com/bwaypast3b.htm',\n",
    "    'https://www.musicals101.com/bwaypast4.htm',\n",
    "    'https://www.musicals101.com/bwaypast5.htm',\n",
    "    'https://www.musicals101.com/bwaypast6.htm'\n",
    "]"
   ]
  },
  {
   "cell_type": "code",
   "execution_count": null,
   "metadata": {},
   "outputs": [],
   "source": [
    "_ = []\n",
    "for url in urls:\n",
    "    q = requests.get(url)\n",
    "    soup = BeautifulSoup(q.content)\n",
    "    h3 = soup.find_all('h3')\n",
    "    for h in h3:\n",
    "        info = h.find_next_sibling()\n",
    "        if info is None: continue\n",
    "        theatre = ParseTheatreInfo(info.text)\n",
    "        theatre.data['name'] = h.text\n",
    "        theatre.data['reference'] = theatre.reference\n",
    "        theatre.data['original_text'] = info.text\n",
    "        _.append(theatre.data)\n",
    "df = pd.DataFrame.from_dict(_)\n",
    "df.to_csv('musicals101.csv')"
   ]
  }
 ],
 "metadata": {
  "kernelspec": {
   "display_name": "Python 3",
   "language": "python",
   "name": "python3"
  },
  "language_info": {
   "codemirror_mode": {
    "name": "ipython",
    "version": 3
   },
   "file_extension": ".py",
   "mimetype": "text/x-python",
   "name": "python",
   "nbconvert_exporter": "python",
   "pygments_lexer": "ipython3",
   "version": "3.7.1"
  }
 },
 "nbformat": 4,
 "nbformat_minor": 2
}
