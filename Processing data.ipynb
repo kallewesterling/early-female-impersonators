{
 "cells": [
  {
   "cell_type": "code",
   "execution_count": 1,
   "metadata": {},
   "outputs": [],
   "source": [
    "import requests, csv, io\n",
    "from datetime import datetime as dt\n",
    "from pprint import pprint"
   ]
  },
  {
   "cell_type": "code",
   "execution_count": 25,
   "metadata": {},
   "outputs": [],
   "source": [
    "'''\n",
    "# Load data externally\n",
    "sheet_url = 'https://docs.google.com/spreadsheets/d/e/2PACX-1vRrTyONku0NgOZ2f_aFeJ8bKJ4K4wc4brHxMm9Q1_Si72bhdgefUinLCiUmoZFQg4V7F95Y4rbU0bcf/pub?gid=0&single=true&output=tsv'\n",
    "response = requests.get(sheet_url)\n",
    "response.encoding = response.apparent_encoding # Fix encoding (see https://stackoverflow.com/questions/44203397/python-requests-get-returns-improperly-decoded-text-instead-of-utf-8)\n",
    "response.raise_for_status()\n",
    "text = response.text\n",
    "'''\n",
    "pass"
   ]
  },
  {
   "cell_type": "code",
   "execution_count": null,
   "metadata": {},
   "outputs": [],
   "source": []
  },
  {
   "cell_type": "code",
   "execution_count": null,
   "metadata": {},
   "outputs": [],
   "source": []
  },
  {
   "cell_type": "code",
   "execution_count": 44,
   "metadata": {},
   "outputs": [],
   "source": [
    "# Very early impersonator data file contains mostly minstrel show data\n",
    "\n",
    "with open('./data/very early impersonators.tsv') as f:\n",
    "    text = f.read()"
   ]
  },
  {
   "cell_type": "code",
   "execution_count": 34,
   "metadata": {},
   "outputs": [],
   "source": [
    "headers = text.split(\"\\n\")[0]\n",
    "headers = headers.split(\"\\t\")\n",
    "rows = response.text.split(\"\\n\")[1:]"
   ]
  },
  {
   "cell_type": "code",
   "execution_count": 35,
   "metadata": {},
   "outputs": [],
   "source": [
    "_rows = []\n",
    "for row in rows:\n",
    "    fields = row.split(\"\\t\")\n",
    "    if fields[0] == \"\" or fields[0] == None: continue\n",
    "    _ = {}\n",
    "    for i, field in enumerate(fields):\n",
    "        _[headers[i]] = field\n",
    "    _rows.append(_)\n",
    "rows = _rows"
   ]
  },
  {
   "cell_type": "code",
   "execution_count": 41,
   "metadata": {},
   "outputs": [
    {
     "name": "stdout",
     "output_type": "stream",
     "text": [
      "Warning: Could not find date in the following data.\n",
      "\n",
      "Current Literature (1888-1912); New York Vol. VOL. XX,, Iss. No. 5, (Nov 1896): 452.\n",
      "\n",
      "\n",
      "\n",
      "Warning: Could not find date in the following data.\n",
      "\n",
      "The American Law Review (1866-1906); St. Louis Vol. 38,  (Sep/Oct 1904): 751. \n",
      "\n",
      "\n",
      "\n"
     ]
    }
   ],
   "source": [
    "import re\n",
    "for i, row in enumerate(rows):\n",
    "    sources = row['Source/s'].split(\"\\r\\n\")\n",
    "    for source in sources:\n",
    "        row['Source/s'] = row['Source/s'].replace(\"Archive: \", \"\")\n",
    "\n",
    "        title, vol, iss, date = None, None, None, None\n",
    "        g = re.search(\"^([A-Za-z\\s.-]+) \\(.*\\); (.*): \", row['Source/s'])\n",
    "        if g:\n",
    "            title = g.groups()[0]\n",
    "\n",
    "            g2 = re.search(\"(Vol\\. (\\d+))\", row['Source/s'])\n",
    "            if g2: vol = g2.groups()[0]\n",
    "\n",
    "            g3 = re.search(\"(Iss\\. (\\d+))\", row['Source/s'])\n",
    "            if g3: iss = g3.groups()[0]\n",
    "\n",
    "            g4 = re.search(\"((\\d{2}) (Jan|Feb|Mar|Apr|May|Jun|June|Jul|July|Aug|Sep|Oct|Nov|Dec) (\\d{4}))\", row['Source/s'])\n",
    "            if g4: \n",
    "                date_str = g4.groups()[0].replace(\"June\", \"Jun\")\n",
    "                date_str = date_str.replace(\"July\", \"Jul\")\n",
    "                date = dt.strptime(date_str, \"%d %b %Y\")\n",
    "            else: \n",
    "                g4b = re.search(\"((Jan|Feb|Mar|Apr|May|Jun|Jul|Aug|Sep|Oct|Nov|Dec) (\\d+), (\\d{4}))\", row['Source/s'])\n",
    "                if g4b: date = dt.strptime(g4b.groups()[0], \"%b %d, %Y\")\n",
    "\n",
    "            if date is None:\n",
    "                print(f\"Warning: Could not find date in the following data.\\n\\n{row['Source/s']}\\n\\n\\n\")\n",
    "        g = re.search(\"(.*): (.*)\\.\", row['Source/s'])\n",
    "        if g:\n",
    "            page_number = g.groups()[1]\n",
    "\n",
    "        '''\n",
    "        rows[i]['title'] = title\n",
    "        rows[i]['vol'] = vol\n",
    "        rows[i]['iss'] = iss\n",
    "        rows[i]['date'] = date\n",
    "        '''"
   ]
  },
  {
   "cell_type": "code",
   "execution_count": 42,
   "metadata": {},
   "outputs": [],
   "source": [
    "import pandas as pd\n",
    "df = pd.DataFrame.from_dict(rows[0:5])"
   ]
  },
  {
   "cell_type": "code",
   "execution_count": 43,
   "metadata": {},
   "outputs": [
    {
     "data": {
      "text/html": [
       "<div>\n",
       "<style scoped>\n",
       "    .dataframe tbody tr th:only-of-type {\n",
       "        vertical-align: middle;\n",
       "    }\n",
       "\n",
       "    .dataframe tbody tr th {\n",
       "        vertical-align: top;\n",
       "    }\n",
       "\n",
       "    .dataframe thead th {\n",
       "        text-align: right;\n",
       "    }\n",
       "</style>\n",
       "<table border=\"1\" class=\"dataframe\">\n",
       "  <thead>\n",
       "    <tr style=\"text-align: right;\">\n",
       "      <th></th>\n",
       "      <th>id</th>\n",
       "      <th>Year</th>\n",
       "      <th>First name</th>\n",
       "      <th>Last name</th>\n",
       "      <th>alt spelling of name</th>\n",
       "      <th>Company</th>\n",
       "      <th>Play/performance (mentioned)</th>\n",
       "      <th>Keyword</th>\n",
       "      <th>Comment</th>\n",
       "      <th>Source/s</th>\n",
       "    </tr>\n",
       "  </thead>\n",
       "  <tbody>\n",
       "    <tr>\n",
       "      <th>0</th>\n",
       "      <td>2</td>\n",
       "      <td>1854</td>\n",
       "      <td>Thomas L.</td>\n",
       "      <td>Floyd</td>\n",
       "      <td>Thomas Floyd; Thomas L. Flloyd; Thomas L. Floy...</td>\n",
       "      <td>Kunkel's Nightingale Minstrels</td>\n",
       "      <td></td>\n",
       "      <td></td>\n",
       "      <td>(The celebrated female impersonator of Kunkel’...</td>\n",
       "      <td>The Sun (1837-1992); Baltimore, Md. [Baltimore...</td>\n",
       "    </tr>\n",
       "    <tr>\n",
       "      <th>1</th>\n",
       "      <td>1</td>\n",
       "      <td>1866</td>\n",
       "      <td>Joseph</td>\n",
       "      <td>Maies</td>\n",
       "      <td>Joseph Mayes; Joseph Mays; Joseph Mais; Joe Ma...</td>\n",
       "      <td>Excelsior Minstrels and Burlesque Opera Troupe</td>\n",
       "      <td></td>\n",
       "      <td></td>\n",
       "      <td></td>\n",
       "      <td>The Louisville Daily Journal (1839-1868); Loui...</td>\n",
       "    </tr>\n",
       "    <tr>\n",
       "      <th>2</th>\n",
       "      <td>3</td>\n",
       "      <td>1866</td>\n",
       "      <td>Thomas L.</td>\n",
       "      <td>Floyd</td>\n",
       "      <td></td>\n",
       "      <td>Kunkel Opera Troupe</td>\n",
       "      <td></td>\n",
       "      <td></td>\n",
       "      <td>Kunkel Opera Troupe was a \"Well-established en...</td>\n",
       "      <td>The Louisville Daily Journal (1839-1868); Loui...</td>\n",
       "    </tr>\n",
       "    <tr>\n",
       "      <th>3</th>\n",
       "      <td>4</td>\n",
       "      <td>1868</td>\n",
       "      <td>Joe</td>\n",
       "      <td>Maies</td>\n",
       "      <td>[? spelled Mairs in article]</td>\n",
       "      <td>Skiff &amp; Gaylord’s Minstrels, Chicago</td>\n",
       "      <td></td>\n",
       "      <td></td>\n",
       "      <td></td>\n",
       "      <td>Detroit Free Press (1858-1922); Detroit, Mich....</td>\n",
       "    </tr>\n",
       "    <tr>\n",
       "      <th>4</th>\n",
       "      <td>5</td>\n",
       "      <td>1869</td>\n",
       "      <td>R.</td>\n",
       "      <td>Saphrini</td>\n",
       "      <td>R. Safrini; R. Saffrini; R. Saffrinni; R. Safr...</td>\n",
       "      <td></td>\n",
       "      <td></td>\n",
       "      <td></td>\n",
       "      <td>as the Dashing Belle, Girl of the Period, Pet ...</td>\n",
       "      <td>The Scotsman (1860-1920); Edinburgh, Scotland ...</td>\n",
       "    </tr>\n",
       "  </tbody>\n",
       "</table>\n",
       "</div>"
      ],
      "text/plain": [
       "  id  Year First name Last name  \\\n",
       "0  2  1854  Thomas L.     Floyd   \n",
       "1  1  1866     Joseph     Maies   \n",
       "2  3  1866  Thomas L.     Floyd   \n",
       "3  4  1868        Joe     Maies   \n",
       "4  5  1869         R.  Saphrini   \n",
       "\n",
       "                                alt spelling of name  \\\n",
       "0  Thomas Floyd; Thomas L. Flloyd; Thomas L. Floy...   \n",
       "1  Joseph Mayes; Joseph Mays; Joseph Mais; Joe Ma...   \n",
       "2                                                      \n",
       "3                       [? spelled Mairs in article]   \n",
       "4  R. Safrini; R. Saffrini; R. Saffrinni; R. Safr...   \n",
       "\n",
       "                                          Company  \\\n",
       "0                  Kunkel's Nightingale Minstrels   \n",
       "1  Excelsior Minstrels and Burlesque Opera Troupe   \n",
       "2                             Kunkel Opera Troupe   \n",
       "3            Skiff & Gaylord’s Minstrels, Chicago   \n",
       "4                                                   \n",
       "\n",
       "  Play/performance (mentioned) Keyword  \\\n",
       "0                                        \n",
       "1                                        \n",
       "2                                        \n",
       "3                                        \n",
       "4                                        \n",
       "\n",
       "                                             Comment  \\\n",
       "0  (The celebrated female impersonator of Kunkel’...   \n",
       "1                                                      \n",
       "2  Kunkel Opera Troupe was a \"Well-established en...   \n",
       "3                                                      \n",
       "4  as the Dashing Belle, Girl of the Period, Pet ...   \n",
       "\n",
       "                                            Source/s  \n",
       "0  The Sun (1837-1992); Baltimore, Md. [Baltimore...  \n",
       "1  The Louisville Daily Journal (1839-1868); Loui...  \n",
       "2  The Louisville Daily Journal (1839-1868); Loui...  \n",
       "3  Detroit Free Press (1858-1922); Detroit, Mich....  \n",
       "4  The Scotsman (1860-1920); Edinburgh, Scotland ...  "
      ]
     },
     "execution_count": 43,
     "metadata": {},
     "output_type": "execute_result"
    }
   ],
   "source": [
    "df"
   ]
  },
  {
   "cell_type": "code",
   "execution_count": null,
   "metadata": {},
   "outputs": [],
   "source": []
  },
  {
   "cell_type": "code",
   "execution_count": null,
   "metadata": {},
   "outputs": [],
   "source": []
  },
  {
   "cell_type": "code",
   "execution_count": null,
   "metadata": {},
   "outputs": [],
   "source": []
  },
  {
   "cell_type": "code",
   "execution_count": null,
   "metadata": {},
   "outputs": [],
   "source": []
  },
  {
   "cell_type": "code",
   "execution_count": null,
   "metadata": {},
   "outputs": [],
   "source": []
  },
  {
   "cell_type": "code",
   "execution_count": null,
   "metadata": {},
   "outputs": [],
   "source": []
  },
  {
   "cell_type": "code",
   "execution_count": null,
   "metadata": {},
   "outputs": [],
   "source": []
  },
  {
   "cell_type": "code",
   "execution_count": null,
   "metadata": {},
   "outputs": [],
   "source": []
  },
  {
   "cell_type": "code",
   "execution_count": null,
   "metadata": {},
   "outputs": [],
   "source": []
  },
  {
   "cell_type": "code",
   "execution_count": null,
   "metadata": {},
   "outputs": [],
   "source": []
  },
  {
   "cell_type": "code",
   "execution_count": null,
   "metadata": {},
   "outputs": [],
   "source": []
  }
 ],
 "metadata": {
  "kernelspec": {
   "display_name": "Python 3",
   "language": "python",
   "name": "python3"
  },
  "language_info": {
   "codemirror_mode": {
    "name": "ipython",
    "version": 3
   },
   "file_extension": ".py",
   "mimetype": "text/x-python",
   "name": "python",
   "nbconvert_exporter": "python",
   "pygments_lexer": "ipython3",
   "version": "3.7.1"
  }
 },
 "nbformat": 4,
 "nbformat_minor": 2
}
